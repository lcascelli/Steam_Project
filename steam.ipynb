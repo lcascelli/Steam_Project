{
 "cells": [
  {
   "cell_type": "code",
   "execution_count": 83,
   "id": "bd7074b5",
   "metadata": {},
   "outputs": [],
   "source": [
    "#Problem: With the insurgence of indie games on Steam, it is hard to determine what would make a successful indie game. \n",
    "#Questions: What genres of indie games are most popular? Which ones are oversaturated? If I wanted to make a successful indie game, what genre should I make it in?\n",
    "#Data Sources: SteamSpy, Storefront API, Steam Web API\n",
    "#Steam Web API (key: DCD8AAAB9BA14A860C20C9138E54CB50, domain name: blackmoose)"
   ]
  },
  {
   "cell_type": "code",
   "execution_count": 84,
   "id": "a5b18f47",
   "metadata": {},
   "outputs": [],
   "source": [
    "import pandas as pd\n",
    "import numpy as np\n",
    "import matplotlib.pyplot as plt\n",
    "import seaborn as sns\n",
    "import ast\n",
    "import sklearn"
   ]
  },
  {
   "cell_type": "code",
   "execution_count": 85,
   "id": "ed384c89",
   "metadata": {},
   "outputs": [],
   "source": [
    "#importing data from csv files\n",
    "steamspy_df = pd.read_csv('steamspy_all_games.csv')\n",
    "storefront_df_raw = pd.read_csv('storefront_data.csv')"
   ]
  },
  {
   "cell_type": "code",
   "execution_count": 86,
   "id": "aac27540",
   "metadata": {},
   "outputs": [
    {
     "name": "stdout",
     "output_type": "stream",
     "text": [
      "     appid                                             genres  type  \\\n",
      "0      730  [{'id': '1', 'description': 'Action'}, {'id': ...  game   \n",
      "1  1172470  [{'id': '1', 'description': 'Action'}, {'id': ...  game   \n",
      "\n",
      "                                     release_date  \n",
      "0  {'coming_soon': False, 'date': '21 Aug, 2012'}  \n",
      "1   {'coming_soon': False, 'date': 'Nov 4, 2020'}  \n",
      "[\"[{'id': '1', 'description': 'Action'}, {'id': '37', 'description': 'Free To Play'}]\", \"[{'id': '1', 'description': 'Action'}, {'id': '25', 'description': 'Adventure'}, {'id': '37', 'description': 'Free To Play'}]\"]\n"
     ]
    },
    {
     "data": {
      "text/plain": [
       "[[{'id': '1', 'description': 'Action'},\n",
       "  {'id': '37', 'description': 'Free To Play'}],\n",
       " [{'id': '1', 'description': 'Action'},\n",
       "  {'id': '25', 'description': 'Adventure'},\n",
       "  {'id': '37', 'description': 'Free To Play'}]]"
      ]
     },
     "execution_count": 86,
     "metadata": {},
     "output_type": "execute_result"
    }
   ],
   "source": [
    "print(storefront_df_raw.head(2))\n",
    "print(storefront_df_raw['genres'].head(2).tolist())\n",
    "#this is showing that the json is stringified, so we need to convert it to a real list before we can use it\n",
    "storefront_df_raw['genres_parsed'] = storefront_df_raw['genres'].apply(lambda x: ast.literal_eval(x) if isinstance(x, str) else x)\n",
    "storefront_df_raw['genres_parsed'].head(2).tolist()"
   ]
  },
  {
   "cell_type": "code",
   "execution_count": 87,
   "id": "912631ea",
   "metadata": {},
   "outputs": [
    {
     "name": "stdout",
     "output_type": "stream",
     "text": [
      "0    [{'id': '1', 'description': 'Action'}, {'id': ...\n",
      "1    [{'id': '1', 'description': 'Action'}, {'id': ...\n",
      "2    [{'id': '1', 'description': 'Action'}, {'id': ...\n",
      "3    [{'id': '1', 'description': 'Action'}, {'id': ...\n",
      "4    [{'id': '1', 'description': 'Action'}, {'id': ...\n",
      "Name: genres, dtype: object\n",
      "Index(['appid', 'type', 'genres_list'], dtype='object')\n",
      "     appid  type                                        genres_list\n",
      "0      730  game                             [Action, Free To Play]\n",
      "1  1172470  game                  [Action, Adventure, Free To Play]\n",
      "2   578080  game  [Action, Adventure, Massively Multiplayer, Fre...\n",
      "3  1623730  game      [Action, Adventure, Indie, RPG, Early Access]\n",
      "4      440  game                             [Action, Free To Play]\n",
      "86390\n"
     ]
    }
   ],
   "source": [
    "storefront_df = storefront_df_raw.drop(columns=['genres', 'release_date', 'genres_parsed'])\n",
    "print(storefront_df_raw['genres'].head())\n",
    "storefront_df['genres_list'] = storefront_df_raw['genres_parsed'].apply(lambda x: [g['description'] for g in x if 'description' in g] if isinstance(x, list) else [])\n",
    "print(storefront_df.columns)\n",
    "print(storefront_df.head())\n",
    "print(len(storefront_df))"
   ]
  },
  {
   "cell_type": "code",
   "execution_count": 88,
   "id": "088a7213",
   "metadata": {},
   "outputs": [
    {
     "name": "stdout",
     "output_type": "stream",
     "text": [
      "              appid  score_rank      positive      negative     userscore  \\\n",
      "count  8.652800e+04   43.000000  8.652800e+04  8.652800e+04  86528.000000   \n",
      "mean   1.530538e+06   99.232558  1.470238e+03  2.419816e+02      0.038508   \n",
      "std    9.059966e+05    0.648706  3.264946e+04  6.194527e+03      1.766213   \n",
      "min    1.000000e+01   98.000000  0.000000e+00  0.000000e+00      0.000000   \n",
      "25%    7.795775e+05   99.000000  5.000000e+00  1.000000e+00      0.000000   \n",
      "50%    1.382915e+06   99.000000  1.800000e+01  5.000000e+00      0.000000   \n",
      "75%    2.212212e+06  100.000000  9.500000e+01  2.700000e+01      0.000000   \n",
      "max    3.744990e+06  100.000000  7.642084e+06  1.173003e+06    100.000000   \n",
      "\n",
      "       average_forever  average_2weeks  median_forever  median_2weeks  \\\n",
      "count     86528.000000    86528.000000    86528.000000   86528.000000   \n",
      "mean        223.022605       14.795373      191.611166      15.662479   \n",
      "std        4223.636880      213.135683     5336.906312     241.607244   \n",
      "min           0.000000        0.000000        0.000000       0.000000   \n",
      "25%           0.000000        0.000000        0.000000       0.000000   \n",
      "50%           0.000000        0.000000        0.000000       0.000000   \n",
      "75%          43.000000        0.000000       36.250000       0.000000   \n",
      "max      944160.000000    20059.000000   944160.000000   20059.000000   \n",
      "\n",
      "              price  initialprice      discount           ccu  \n",
      "count  86500.000000  86507.000000  86507.000000  8.652800e+04  \n",
      "mean     674.315399    825.784700     11.927844  6.655256e+01  \n",
      "std     1226.287296   1350.868083     24.961130  3.841462e+03  \n",
      "min        0.000000      0.000000      0.000000  0.000000e+00  \n",
      "25%       99.000000    199.000000      0.000000  0.000000e+00  \n",
      "50%      399.000000    499.000000      0.000000  0.000000e+00  \n",
      "75%      974.000000    999.000000      0.000000  0.000000e+00  \n",
      "max    99998.000000  99998.000000     95.000000  1.013936e+06  \n",
      "Index(['appid', 'name', 'developer', 'publisher', 'score_rank', 'positive',\n",
      "       'negative', 'userscore', 'owners', 'average_forever', 'average_2weeks',\n",
      "       'median_forever', 'median_2weeks', 'price', 'initialprice', 'discount',\n",
      "       'ccu'],\n",
      "      dtype='object')\n",
      "     appid                              name         developer  \\\n",
      "0      730  Counter-Strike: Global Offensive             Valve   \n",
      "1  1172470                      Apex Legends           Respawn   \n",
      "2   578080               PUBG: BATTLEGROUNDS  PUBG Corporation   \n",
      "3  1623730                          Palworld        Pocketpair   \n",
      "4      440                   Team Fortress 2             Valve   \n",
      "\n",
      "         publisher  score_rank  positive  negative  userscore  \\\n",
      "0            Valve         NaN   7642084   1173003          0   \n",
      "1  Electronic Arts         NaN    668053    326926          0   \n",
      "2    KRAFTON, Inc.         NaN   1520457   1037487          0   \n",
      "3       Pocketpair         NaN    358266     22443          0   \n",
      "4            Valve         NaN   1044264    117208          0   \n",
      "\n",
      "                       owners  average_forever  average_2weeks  \\\n",
      "0  100,000,000 .. 200,000,000            30959             802   \n",
      "1  100,000,000 .. 200,000,000             9461             594   \n",
      "2  100,000,000 .. 200,000,000            23530             891   \n",
      "3   50,000,000 .. 100,000,000             3474             557   \n",
      "4   50,000,000 .. 100,000,000            10046             685   \n",
      "\n",
      "   median_forever  median_2weeks   price  initialprice  discount      ccu  \n",
      "0            5071            325     0.0           0.0       0.0  1013936  \n",
      "1             709            247     0.0           0.0       0.0   124262  \n",
      "2            5785            368     0.0           0.0       0.0   314682  \n",
      "3            2064            239  2249.0        2999.0      25.0    18028  \n",
      "4             323            195     0.0           0.0       0.0    43819  \n",
      "86528\n"
     ]
    }
   ],
   "source": [
    "print(steamspy_df.describe())\n",
    "print(steamspy_df.columns)\n",
    "print(steamspy_df.head())\n",
    "print(len(steamspy_df))"
   ]
  },
  {
   "cell_type": "code",
   "execution_count": 89,
   "id": "edbef97f",
   "metadata": {},
   "outputs": [
    {
     "name": "stdout",
     "output_type": "stream",
     "text": [
      "     appid  type                                        genres_list  \\\n",
      "0      730  game                             [Action, Free To Play]   \n",
      "1  1172470  game                  [Action, Adventure, Free To Play]   \n",
      "2   578080  game  [Action, Adventure, Massively Multiplayer, Fre...   \n",
      "3  1623730  game      [Action, Adventure, Indie, RPG, Early Access]   \n",
      "4      440  game                             [Action, Free To Play]   \n",
      "\n",
      "                               name         developer        publisher  \\\n",
      "0  Counter-Strike: Global Offensive             Valve            Valve   \n",
      "1                      Apex Legends           Respawn  Electronic Arts   \n",
      "2               PUBG: BATTLEGROUNDS  PUBG Corporation    KRAFTON, Inc.   \n",
      "3                          Palworld        Pocketpair       Pocketpair   \n",
      "4                   Team Fortress 2             Valve            Valve   \n",
      "\n",
      "   score_rank  positive  negative  userscore                      owners  \\\n",
      "0         NaN   7642084   1173003          0  100,000,000 .. 200,000,000   \n",
      "1         NaN    668053    326926          0  100,000,000 .. 200,000,000   \n",
      "2         NaN   1520457   1037487          0  100,000,000 .. 200,000,000   \n",
      "3         NaN    358266     22443          0   50,000,000 .. 100,000,000   \n",
      "4         NaN   1044264    117208          0   50,000,000 .. 100,000,000   \n",
      "\n",
      "   average_forever  average_2weeks  median_forever  median_2weeks   price  \\\n",
      "0            30959             802            5071            325     0.0   \n",
      "1             9461             594             709            247     0.0   \n",
      "2            23530             891            5785            368     0.0   \n",
      "3             3474             557            2064            239  2249.0   \n",
      "4            10046             685             323            195     0.0   \n",
      "\n",
      "   initialprice  discount      ccu  \n",
      "0           0.0       0.0  1013936  \n",
      "1           0.0       0.0   124262  \n",
      "2           0.0       0.0   314682  \n",
      "3        2999.0      25.0    18028  \n",
      "4           0.0       0.0    43819  \n",
      "93787\n"
     ]
    }
   ],
   "source": [
    "#Because not all rows were successfully extracted from API, there is a mismatch in the number of rows between the two dataframes. For this reason, we will use merge on dataframes to combine them.\n",
    "df = pd.merge(storefront_df, steamspy_df, left_on='appid', right_on='appid', how='inner')\n",
    "print(df.head())\n",
    "print(len(df))\n",
    "#RED FLAG: \n",
    "#there are 93787 which is larger than the two individual dataframes, so it is likely that some rows were duplicated in the merge, or there are some mismatched appids in the two dataframes.\n",
    "#Should not be more than the individual dataframes, due to the inner join."
   ]
  },
  {
   "cell_type": "code",
   "execution_count": 90,
   "id": "003de292",
   "metadata": {},
   "outputs": [
    {
     "name": "stdout",
     "output_type": "stream",
     "text": [
      "Storefront duplicates previous to remove: 3760 Length pre-duplicates: 86390\n",
      "Steamspy duplicates previous to remove: 3773 Length pre-duplicates: 86528\n",
      "Storefront duplicates after drop: 0 Length post-duplicates: 82630\n",
      "Steamspy duplicates after drop: 0 Length post-duplicates: 82755\n",
      "Merged duplicates after drop: 0 Length post-duplicates: 82547\n",
      "The merged dataframe has the same number or fewer rows as the individual dataframes. There are no mismatched appids.\n"
     ]
    }
   ],
   "source": [
    "#Looking why there is more in the merged dataframe than in the individual dataframes\n",
    "#checking for duplicates in the individual dataframes\n",
    "print(\"Storefront duplicates previous to remove:\", storefront_df['appid'].duplicated().sum(), \"Length pre-duplicates:\", len(storefront_df))\n",
    "print(\"Steamspy duplicates previous to remove:\", steamspy_df['appid'].duplicated().sum(), \"Length pre-duplicates:\", len(steamspy_df))\n",
    "storefront_df = storefront_df.drop_duplicates(subset='appid')\n",
    "steamspy_df = steamspy_df.drop_duplicates(subset='appid')\n",
    "print(\"Storefront duplicates after drop:\", storefront_df['appid'].duplicated().sum(), \"Length post-duplicates:\", len(storefront_df))\n",
    "print(\"Steamspy duplicates after drop:\", steamspy_df['appid'].duplicated().sum(), \"Length post-duplicates:\", len(steamspy_df))\n",
    "\n",
    "df = pd.merge(storefront_df, steamspy_df, left_on='appid', right_on='appid', how='inner')\n",
    "print(\"Merged duplicates after drop:\", df['appid'].duplicated().sum(), \"Length post-duplicates:\", len(df))\n",
    "if len(df) > len(storefront_df) and len(df) > len(steamspy_df):\n",
    "    print(\"There are still more rows in the merged dataframe than in the individual dataframes. There may be some mismatched appids in the two dataframes.\")\n",
    "else:\n",
    "    print(\"The merged dataframe has the same number or fewer rows as the individual dataframes. There are no mismatched appids.\")"
   ]
  },
  {
   "cell_type": "code",
   "execution_count": 91,
   "id": "388e1a18",
   "metadata": {},
   "outputs": [
    {
     "name": "stdout",
     "output_type": "stream",
     "text": [
      "NAs in merged dataframe: appid                  0\n",
      "type                   0\n",
      "genres_list            0\n",
      "name                  11\n",
      "developer            209\n",
      "publisher            483\n",
      "score_rank         82510\n",
      "positive               0\n",
      "negative               0\n",
      "userscore              0\n",
      "owners                 0\n",
      "average_forever        0\n",
      "average_2weeks         0\n",
      "median_forever         0\n",
      "median_2weeks          0\n",
      "price                  0\n",
      "initialprice           0\n",
      "discount               0\n",
      "ccu                    0\n",
      "dtype: int64\n",
      "percent of NAs in merged dataframe: appid               0.000000\n",
      "type                0.000000\n",
      "genres_list         0.000000\n",
      "name                0.013326\n",
      "developer           0.253189\n",
      "publisher           0.585121\n",
      "score_rank         99.955177\n",
      "positive            0.000000\n",
      "negative            0.000000\n",
      "userscore           0.000000\n",
      "owners              0.000000\n",
      "average_forever     0.000000\n",
      "average_2weeks      0.000000\n",
      "median_forever      0.000000\n",
      "median_2weeks       0.000000\n",
      "price               0.000000\n",
      "initialprice        0.000000\n",
      "discount            0.000000\n",
      "ccu                 0.000000\n",
      "dtype: float64\n",
      "NAs in merged dataframe after drop: appid              0\n",
      "type               0\n",
      "genres_list        0\n",
      "name               0\n",
      "developer          0\n",
      "publisher          0\n",
      "positive           0\n",
      "negative           0\n",
      "userscore          0\n",
      "owners             0\n",
      "average_forever    0\n",
      "average_2weeks     0\n",
      "median_forever     0\n",
      "median_2weeks      0\n",
      "price              0\n",
      "initialprice       0\n",
      "discount           0\n",
      "ccu                0\n",
      "dtype: int64\n",
      "Length of merged dataframe after drop: 81924\n"
     ]
    }
   ],
   "source": [
    "#Looking for NAs in the merged dataframe\n",
    "print(\"NAs in merged dataframe:\", df.isna().sum())\n",
    "print(\"percent of NAs in merged dataframe:\", df.isna().sum() / len(df) * 100)\n",
    "\n",
    "#Missing Data handling\n",
    "#score_rank has a lot of NAs, so we will drop the column\n",
    "#Name, Developer, and Publisher have some NAs, so we will drop those rows since we cannot impute them meaningfully\n",
    "df = df.drop(columns=['score_rank'])\n",
    "df = df.dropna()\n",
    "print(\"NAs in merged dataframe after drop:\", df.isna().sum())\n",
    "print(\"Length of merged dataframe after drop:\", len(df))"
   ]
  },
  {
   "cell_type": "code",
   "execution_count": null,
   "id": "83822a97",
   "metadata": {},
   "outputs": [
    {
     "name": "stdout",
     "output_type": "stream",
     "text": [
      "appid                int64\n",
      "type                object\n",
      "genres_list         object\n",
      "name                object\n",
      "developer           object\n",
      "publisher           object\n",
      "positive             int64\n",
      "negative             int64\n",
      "userscore            int64\n",
      "owners              object\n",
      "average_forever      int64\n",
      "average_2weeks       int64\n",
      "median_forever       int64\n",
      "median_2weeks        int64\n",
      "price              float64\n",
      "initialprice       float64\n",
      "discount           float64\n",
      "ccu                  int64\n",
      "dtype: object\n",
      "     appid  type                                        genres_list  \\\n",
      "0      730  game                             [Action, Free To Play]   \n",
      "1  1172470  game                  [Action, Adventure, Free To Play]   \n",
      "2   578080  game  [Action, Adventure, Massively Multiplayer, Fre...   \n",
      "3  1623730  game      [Action, Adventure, Indie, RPG, Early Access]   \n",
      "4      440  game                             [Action, Free To Play]   \n",
      "\n",
      "                               name         developer        publisher  \\\n",
      "0  Counter-Strike: Global Offensive             Valve            Valve   \n",
      "1                      Apex Legends           Respawn  Electronic Arts   \n",
      "2               PUBG: BATTLEGROUNDS  PUBG Corporation    KRAFTON, Inc.   \n",
      "3                          Palworld        Pocketpair       Pocketpair   \n",
      "4                   Team Fortress 2             Valve            Valve   \n",
      "\n",
      "   positive  negative  userscore                      owners  average_forever  \\\n",
      "0   7642084   1173003          0  100,000,000 .. 200,000,000            30959   \n",
      "1    668053    326926          0  100,000,000 .. 200,000,000             9461   \n",
      "2   1520457   1037487          0  100,000,000 .. 200,000,000            23530   \n",
      "3    358266     22443          0   50,000,000 .. 100,000,000             3474   \n",
      "4   1044264    117208          0   50,000,000 .. 100,000,000            10046   \n",
      "\n",
      "   average_2weeks  median_forever  median_2weeks   price  initialprice  \\\n",
      "0             802            5071            325     0.0           0.0   \n",
      "1             594             709            247     0.0           0.0   \n",
      "2             891            5785            368     0.0           0.0   \n",
      "3             557            2064            239  2249.0        2999.0   \n",
      "4             685             323            195     0.0           0.0   \n",
      "\n",
      "   discount      ccu  \n",
      "0       0.0  1013936  \n",
      "1       0.0   124262  \n",
      "2       0.0   314682  \n",
      "3      25.0    18028  \n",
      "4       0.0    43819  \n"
     ]
    }
   ],
   "source": [
    "#looking at what columns we need to clean next\n",
    "print(df.dtypes)\n",
    "print(df.head(5))\n",
    "#Owners is a string, with a range of values (e.g. \"100,000 to 200,000\"). How necessary is this column? If we keep it, we will need to convert it to a numerical value. But there is no way\n",
    "#to parse the information in a meaningful way, since there will be a many repeated values for different games. Will this add noise or meaninful information to the dataset?\n",
    "#Genres_list needs to be encoded to a numerical value, since it is a list of strings. We can use  encoding to do this.\n",
    "#Additionally, the \"indie\" column from the  encoding + the type will be used to filter the dataframe to only include indie games.\n",
    "#CCU variable also poses a problem with analysis, so we will approach it with caution. CCU = Concurrent Users, which is a snapshot of the number of users playing the game at the time of import. \n",
    "#This can be useful or can add unnecessary noise because it is heavily affected by multiple factors, such as time of day, day of the week, season, whether it is on sale, popularity by region, etc.\n",
    "#We will keep it for now, and see how much information it adds to the models.\n",
    "\n",
    "#NEXT STEPS:\n",
    "#1. Before looking further at the data, we need to  encode the genres_list column to create a new dataframe with the genres as columns.\n",
    "#2. We will then filter the dataframe to only include indie games, and create a new dataframe with only the indie games.\n",
    "#3. Futher EDA on the subset of indie games to look at distributions of other columns. \n",
    "#4. Re-assess what next steps are needed after EDA.\n"
   ]
  },
  {
   "cell_type": "code",
   "execution_count": null,
   "id": "bd459cce",
   "metadata": {},
   "outputs": [
    {
     "name": "stdout",
     "output_type": "stream",
     "text": [
      "Index(['Abenteuer', 'Acceso anticipado', 'Acción', 'Accounting',\n",
      "       'Acesso Antecipado', 'Action', 'Adventure', 'Akció', 'Akcja',\n",
      "       'Animation & Modeling', 'Audio Production', 'Aventura', 'Avventura',\n",
      "       'Ação', 'Casual', 'Corridas', 'Corse', 'Design & Illustration',\n",
      "       'Early Access', 'Education', 'Estratégia', 'Free To Play', 'GDR',\n",
      "       'Game Development', 'Gelegenheitsspiele', 'Gore', 'Indie',\n",
      "       'Indépendant', 'Massively Multiplayer', 'Movie',\n",
      "       'Multigiocatore di massa', 'Multijugador masivo', 'Niezależne',\n",
      "       'Nudity', 'Passatempo', 'Photo Editing', 'Przygodowe', 'RPG', 'Racing',\n",
      "       'Rekreacyjne', 'Rennspiele', 'Rol', 'Rollenspiel', 'Sexual Content',\n",
      "       'Short', 'Simulation', 'Simulationen', 'Simulazione', 'Simulação',\n",
      "       'Software Training', 'Sport', 'Sports', 'Strategy', 'Stratégia',\n",
      "       'Symulacje', 'Szimuláció', 'Utilities', 'Video Production', 'Violent',\n",
      "       'Web Publishing', 'Αγώνες ταχύτητας', 'Δράση', 'Προσομοίωση', 'Инди',\n",
      "       'Казуальные игры', 'Казуальні ігри', 'Навчання', 'Навчання роботі з ПЗ',\n",
      "       'Приключенческие игры', 'Ранний доступ', 'Симуляторы', 'Стратегии',\n",
      "       'Экшены', 'จำลองสถานการณ์', 'ผจญภัย', 'อินดี้', 'แคชชวล', 'แอ็คชัน',\n",
      "       'アクション', 'アドベンチャー', 'インディー', '冒险', '动作', '抢先体验', '独立', '策略', '角色扮演',\n",
      "       '액션', '인디'],\n",
      "      dtype='object')\n",
      "89\n"
     ]
    }
   ],
   "source": [
    "#separating out the genres_list column to view what breakdown is\n",
    "genres_df = df['genres_list'].str.join('|').str.get_dummies()\n",
    "print(genres_df.columns)\n",
    "print(len(genres_df.columns))\n",
    "\n",
    "#Unexpected issue of multiple languages for the genres, so two ways to approach this:\n",
    "#1. Easier method: Use the ID of the genres from the Steam API, which might be consistent across languages.\n",
    "#1a. This would require us to look up the IDs for each genre, and then create a mapping from the genre name to the ID.\n",
    "#2. More complex method: Use the genres as they are, but this will require us to clean the data further to ensure that the genres are consistent across languages.\n",
    "#2a. This would require us to create a mapping from the genre name to a standard name, and then  encode the standard names.\n",
    "\n",
    "#we will obviously start with the easier method."
   ]
  },
  {
   "cell_type": "code",
   "execution_count": 94,
   "id": "dafcb71a",
   "metadata": {},
   "outputs": [
    {
     "name": "stdout",
     "output_type": "stream",
     "text": [
      "Index(['1', '18', '2', '23', '25', '28', '29', '3', '37', '4', '50', '51',\n",
      "       '52', '53', '54', '55', '56', '57', '58', '59', '60', '70', '71', '72',\n",
      "       '73', '74', '80', '83', '9'],\n",
      "      dtype='object')\n",
      "29\n"
     ]
    }
   ],
   "source": [
    "#Now instead of parsing genres from the descriptions, we will parse the genres from the id.\n",
    "#If there is the same number of columns created as the number of columns above, then we will need to try the other method (since ids would not be consistent across languages).\n",
    "#copy our line from above and change 'description' to 'id'\n",
    "\n",
    "storefront_df['genres_list_id'] = storefront_df_raw['genres_parsed'].apply(lambda x: [g['id'] for g in x if 'id' in g] if isinstance(x, list) else [])\n",
    "genres_df_id = storefront_df['genres_list_id'].str.join('|').str.get_dummies()\n",
    "print(genres_df_id.columns)\n",
    "print(len(genres_df_id.columns))\n",
    "\n",
    "#This looks consistent across languages, sicne there are 60 less columns created\n",
    "#Next step is duplicate this method into the main dataframe\n",
    "#Create a mapping dictionary to then add description in EN to each id.\n"
   ]
  },
  {
   "cell_type": "code",
   "execution_count": 95,
   "id": "56314b72",
   "metadata": {},
   "outputs": [
    {
     "name": "stdout",
     "output_type": "stream",
     "text": [
      "Merged duplicates after drop: 0 Length post-duplicates: 82547\n",
      "The merged dataframe has the same number or fewer rows as the individual dataframes. There are no mismatched appids.\n",
      "Index(['appid', 'type', 'genres_list_id', 'name', 'developer', 'publisher',\n",
      "       'score_rank', 'positive', 'negative', 'userscore', 'owners',\n",
      "       'average_forever', 'average_2weeks', 'median_forever', 'median_2weeks',\n",
      "       'price', 'initialprice', 'discount', 'ccu'],\n",
      "      dtype='object')\n",
      "82547\n",
      "No Flags\n"
     ]
    }
   ],
   "source": [
    "#merging again and dropping pertinent columns to replace the genre_list with the genre_list_id in the merged df\n",
    "df = pd.merge(storefront_df, steamspy_df, left_on='appid', right_on='appid', how='inner')\n",
    "print(\"Merged duplicates after drop:\", df['appid'].duplicated().sum(), \"Length post-duplicates:\", len(df))\n",
    "if len(df) > len(storefront_df) and len(df) > len(steamspy_df):\n",
    "    print(\"There are still more rows in the merged dataframe than in the individual dataframes. There may be some mismatched appids in the two dataframes.\")\n",
    "else:\n",
    "    print(\"The merged dataframe has the same number or fewer rows as the individual dataframes. There are no mismatched appids.\")\n",
    "df = df.drop(columns='genres_list')\n",
    "print(df.columns)\n",
    "print(len(df))\n",
    "#double checking that the rows match to the merge before to ensure no issues with this process\n",
    "if len(df) == 82547:\n",
    "    print(\"No Flags\")\n",
    "else:\n",
    "    print(\"ERROR\")"
   ]
  },
  {
   "cell_type": "code",
   "execution_count": null,
   "id": "76f3ddb4",
   "metadata": {},
   "outputs": [
    {
     "name": "stdout",
     "output_type": "stream",
     "text": [
      "dict_values(['Action', 'Free To Play', 'Adventure', 'Massively Multiplayer', 'Indie', 'RPG', 'Early Access', 'Casual', 'Simulation', 'Animation & Modeling', 'Design & Illustration', 'Photo Editing', 'Utilities', 'Strategy', 'Sports', 'Racing', 'Video Production', 'Education', 'Game Development', 'Audio Production', 'Violent', 'Software Training', 'Web Publishing', 'Nudity', 'Gore', 'Movie', 'Sexual Content', 'Accounting', 'Short'])\n",
      "No Flags\n"
     ]
    }
   ],
   "source": [
    "#Creating a dictionary to map the ids to the EN descriptions so results are interpretable\n",
    "#ASSUMPTION: English descriptions will be in the front. This method takes the first description for each id to map them together, if there is an error will have to manually change.\n",
    "all_genres = storefront_df_raw['genres_parsed'].dropna().explode()\n",
    "genre_dicts = [g for g in all_genres if isinstance(g, dict) and 'id' in g and 'description' in g]\n",
    "genre_map = {}\n",
    "for g in genre_dicts:\n",
    "    genre_map[g['id']] = genre_map.get(g['id'], g['description'])\n",
    "print(genre_map.values())\n",
    "if len(genre_map.keys()) == len(genres_df_id.columns):\n",
    "    print(\"No Flags\")\n",
    "else:\n",
    "    print(\"ERROR\")\n",
    "#Looks like that maps correctly to the number of ids that were made in the  encoding above. Visual check shows that all the of the descriptions were in english"
   ]
  },
  {
   "cell_type": "code",
   "execution_count": null,
   "id": "cd4521d3",
   "metadata": {},
   "outputs": [
    {
     "name": "stdout",
     "output_type": "stream",
     "text": [
      "Index(['Accounting', 'Action', 'Adventure', 'Animation & Modeling',\n",
      "       'Audio Production', 'Casual', 'Design & Illustration', 'Early Access',\n",
      "       'Education', 'Free To Play', 'Game Development', 'Gore', 'Indie',\n",
      "       'Massively Multiplayer', 'Movie', 'Nudity', 'Photo Editing', 'RPG',\n",
      "       'Racing', 'Sexual Content', 'Short', 'Simulation', 'Software Training',\n",
      "       'Sports', 'Strategy', 'Utilities', 'Video Production', 'Violent',\n",
      "       'Web Publishing'],\n",
      "      dtype='object')\n",
      "29\n",
      "   Accounting  Action  Adventure  Animation & Modeling  Audio Production  \\\n",
      "0           0       1          0                     0                 0   \n",
      "1           0       1          1                     0                 0   \n",
      "2           0       1          1                     0                 0   \n",
      "3           0       1          1                     0                 0   \n",
      "4           0       1          0                     0                 0   \n",
      "\n",
      "   Casual  Design & Illustration  Early Access  Education  Free To Play  ...  \\\n",
      "0       0                      0             0          0             1  ...   \n",
      "1       0                      0             0          0             1  ...   \n",
      "2       0                      0             0          0             1  ...   \n",
      "3       0                      0             1          0             0  ...   \n",
      "4       0                      0             0          0             1  ...   \n",
      "\n",
      "   Sexual Content  Short  Simulation  Software Training  Sports  Strategy  \\\n",
      "0               0      0           0                  0       0         0   \n",
      "1               0      0           0                  0       0         0   \n",
      "2               0      0           0                  0       0         0   \n",
      "3               0      0           0                  0       0         0   \n",
      "4               0      0           0                  0       0         0   \n",
      "\n",
      "   Utilities  Video Production  Violent  Web Publishing  \n",
      "0          0                 0        0               0  \n",
      "1          0                 0        0               0  \n",
      "2          0                 0        0               0  \n",
      "3          0                 0        0               0  \n",
      "4          0                 0        0               0  \n",
      "\n",
      "[5 rows x 29 columns]\n",
      "0                               [Action, Free To Play]\n",
      "1                    [Action, Adventure, Free To Play]\n",
      "2    [Action, Adventure, Massively Multiplayer, Fre...\n",
      "3        [Action, Adventure, Indie, RPG, Early Access]\n",
      "4                               [Action, Free To Play]\n",
      "Name: genres_list, dtype: object\n"
     ]
    }
   ],
   "source": [
    "#Mapping the english description to the genres_list_id column, so that we create a column with english descriptions for  encoding.\n",
    "df['genres_list'] = df['genres_list_id'].apply(\n",
    "    lambda id_list: [genre_map.get(i, f\"Unknown-{i}\") for i in id_list]\n",
    ")\n",
    "\n",
    "#Double checking to ensure accuracy\n",
    "#encoding the genres_list column\n",
    "genres_df = df['genres_list'].str.join('|').str.get_dummies()\n",
    "print(genres_df.columns)\n",
    "print(len(genres_df.columns))\n",
    "print(genres_df.head(5))\n",
    "print(df['genres_list'].head())\n",
    "#printed both to triple check that mapping was done correctly. Visual check shows correctness"
   ]
  },
  {
   "cell_type": "code",
   "execution_count": null,
   "id": "c5f11e75",
   "metadata": {},
   "outputs": [
    {
     "name": "stdout",
     "output_type": "stream",
     "text": [
      "Index(['appid', 'type', 'name', 'developer', 'publisher', 'positive',\n",
      "       'negative', 'userscore', 'owners', 'average_forever', 'average_2weeks',\n",
      "       'median_forever', 'median_2weeks', 'price', 'initialprice', 'discount',\n",
      "       'ccu', 'genres_list'],\n",
      "      dtype='object')\n"
     ]
    },
    {
     "ename": "KeyError",
     "evalue": "\"['genres_list_id', 'score_rank'] not found in axis\"",
     "output_type": "error",
     "traceback": [
      "\u001b[1;31m---------------------------------------------------------------------------\u001b[0m",
      "\u001b[1;31mKeyError\u001b[0m                                  Traceback (most recent call last)",
      "Cell \u001b[1;32mIn[104], line 3\u001b[0m\n\u001b[0;32m      1\u001b[0m \u001b[38;5;66;03m#Cleaning up again before encoding\u001b[39;00m\n\u001b[0;32m      2\u001b[0m \u001b[38;5;28mprint\u001b[39m(df\u001b[38;5;241m.\u001b[39mcolumns)\n\u001b[1;32m----> 3\u001b[0m df \u001b[38;5;241m=\u001b[39m \u001b[43mdf\u001b[49m\u001b[38;5;241;43m.\u001b[39;49m\u001b[43mdrop\u001b[49m\u001b[43m(\u001b[49m\u001b[43mcolumns\u001b[49m\u001b[38;5;241;43m=\u001b[39;49m\u001b[43m[\u001b[49m\u001b[38;5;124;43m'\u001b[39;49m\u001b[38;5;124;43mgenres_list_id\u001b[39;49m\u001b[38;5;124;43m'\u001b[39;49m\u001b[43m,\u001b[49m\u001b[43m \u001b[49m\u001b[38;5;124;43m'\u001b[39;49m\u001b[38;5;124;43mscore_rank\u001b[39;49m\u001b[38;5;124;43m'\u001b[39;49m\u001b[43m]\u001b[49m\u001b[43m)\u001b[49m\n\u001b[0;32m      4\u001b[0m df \u001b[38;5;241m=\u001b[39m df\u001b[38;5;241m.\u001b[39mdropna()\n\u001b[0;32m      5\u001b[0m \u001b[38;5;28mprint\u001b[39m(df\u001b[38;5;241m.\u001b[39misna()\u001b[38;5;241m.\u001b[39msum())\n",
      "File \u001b[1;32m~\\AppData\\Local\\Packages\\PythonSoftwareFoundation.Python.3.11_qbz5n2kfra8p0\\LocalCache\\local-packages\\Python311\\site-packages\\pandas\\core\\frame.py:5581\u001b[0m, in \u001b[0;36mDataFrame.drop\u001b[1;34m(self, labels, axis, index, columns, level, inplace, errors)\u001b[0m\n\u001b[0;32m   5433\u001b[0m \u001b[38;5;28;01mdef\u001b[39;00m \u001b[38;5;21mdrop\u001b[39m(\n\u001b[0;32m   5434\u001b[0m     \u001b[38;5;28mself\u001b[39m,\n\u001b[0;32m   5435\u001b[0m     labels: IndexLabel \u001b[38;5;241m|\u001b[39m \u001b[38;5;28;01mNone\u001b[39;00m \u001b[38;5;241m=\u001b[39m \u001b[38;5;28;01mNone\u001b[39;00m,\n\u001b[1;32m   (...)\u001b[0m\n\u001b[0;32m   5442\u001b[0m     errors: IgnoreRaise \u001b[38;5;241m=\u001b[39m \u001b[38;5;124m\"\u001b[39m\u001b[38;5;124mraise\u001b[39m\u001b[38;5;124m\"\u001b[39m,\n\u001b[0;32m   5443\u001b[0m ) \u001b[38;5;241m-\u001b[39m\u001b[38;5;241m>\u001b[39m DataFrame \u001b[38;5;241m|\u001b[39m \u001b[38;5;28;01mNone\u001b[39;00m:\n\u001b[0;32m   5444\u001b[0m \u001b[38;5;250m    \u001b[39m\u001b[38;5;124;03m\"\"\"\u001b[39;00m\n\u001b[0;32m   5445\u001b[0m \u001b[38;5;124;03m    Drop specified labels from rows or columns.\u001b[39;00m\n\u001b[0;32m   5446\u001b[0m \n\u001b[1;32m   (...)\u001b[0m\n\u001b[0;32m   5579\u001b[0m \u001b[38;5;124;03m            weight  1.0     0.8\u001b[39;00m\n\u001b[0;32m   5580\u001b[0m \u001b[38;5;124;03m    \"\"\"\u001b[39;00m\n\u001b[1;32m-> 5581\u001b[0m     \u001b[38;5;28;01mreturn\u001b[39;00m \u001b[38;5;28;43msuper\u001b[39;49m\u001b[43m(\u001b[49m\u001b[43m)\u001b[49m\u001b[38;5;241;43m.\u001b[39;49m\u001b[43mdrop\u001b[49m\u001b[43m(\u001b[49m\n\u001b[0;32m   5582\u001b[0m \u001b[43m        \u001b[49m\u001b[43mlabels\u001b[49m\u001b[38;5;241;43m=\u001b[39;49m\u001b[43mlabels\u001b[49m\u001b[43m,\u001b[49m\n\u001b[0;32m   5583\u001b[0m \u001b[43m        \u001b[49m\u001b[43maxis\u001b[49m\u001b[38;5;241;43m=\u001b[39;49m\u001b[43maxis\u001b[49m\u001b[43m,\u001b[49m\n\u001b[0;32m   5584\u001b[0m \u001b[43m        \u001b[49m\u001b[43mindex\u001b[49m\u001b[38;5;241;43m=\u001b[39;49m\u001b[43mindex\u001b[49m\u001b[43m,\u001b[49m\n\u001b[0;32m   5585\u001b[0m \u001b[43m        \u001b[49m\u001b[43mcolumns\u001b[49m\u001b[38;5;241;43m=\u001b[39;49m\u001b[43mcolumns\u001b[49m\u001b[43m,\u001b[49m\n\u001b[0;32m   5586\u001b[0m \u001b[43m        \u001b[49m\u001b[43mlevel\u001b[49m\u001b[38;5;241;43m=\u001b[39;49m\u001b[43mlevel\u001b[49m\u001b[43m,\u001b[49m\n\u001b[0;32m   5587\u001b[0m \u001b[43m        \u001b[49m\u001b[43minplace\u001b[49m\u001b[38;5;241;43m=\u001b[39;49m\u001b[43minplace\u001b[49m\u001b[43m,\u001b[49m\n\u001b[0;32m   5588\u001b[0m \u001b[43m        \u001b[49m\u001b[43merrors\u001b[49m\u001b[38;5;241;43m=\u001b[39;49m\u001b[43merrors\u001b[49m\u001b[43m,\u001b[49m\n\u001b[0;32m   5589\u001b[0m \u001b[43m    \u001b[49m\u001b[43m)\u001b[49m\n",
      "File \u001b[1;32m~\\AppData\\Local\\Packages\\PythonSoftwareFoundation.Python.3.11_qbz5n2kfra8p0\\LocalCache\\local-packages\\Python311\\site-packages\\pandas\\core\\generic.py:4788\u001b[0m, in \u001b[0;36mNDFrame.drop\u001b[1;34m(self, labels, axis, index, columns, level, inplace, errors)\u001b[0m\n\u001b[0;32m   4786\u001b[0m \u001b[38;5;28;01mfor\u001b[39;00m axis, labels \u001b[38;5;129;01min\u001b[39;00m axes\u001b[38;5;241m.\u001b[39mitems():\n\u001b[0;32m   4787\u001b[0m     \u001b[38;5;28;01mif\u001b[39;00m labels \u001b[38;5;129;01mis\u001b[39;00m \u001b[38;5;129;01mnot\u001b[39;00m \u001b[38;5;28;01mNone\u001b[39;00m:\n\u001b[1;32m-> 4788\u001b[0m         obj \u001b[38;5;241m=\u001b[39m \u001b[43mobj\u001b[49m\u001b[38;5;241;43m.\u001b[39;49m\u001b[43m_drop_axis\u001b[49m\u001b[43m(\u001b[49m\u001b[43mlabels\u001b[49m\u001b[43m,\u001b[49m\u001b[43m \u001b[49m\u001b[43maxis\u001b[49m\u001b[43m,\u001b[49m\u001b[43m \u001b[49m\u001b[43mlevel\u001b[49m\u001b[38;5;241;43m=\u001b[39;49m\u001b[43mlevel\u001b[49m\u001b[43m,\u001b[49m\u001b[43m \u001b[49m\u001b[43merrors\u001b[49m\u001b[38;5;241;43m=\u001b[39;49m\u001b[43merrors\u001b[49m\u001b[43m)\u001b[49m\n\u001b[0;32m   4790\u001b[0m \u001b[38;5;28;01mif\u001b[39;00m inplace:\n\u001b[0;32m   4791\u001b[0m     \u001b[38;5;28mself\u001b[39m\u001b[38;5;241m.\u001b[39m_update_inplace(obj)\n",
      "File \u001b[1;32m~\\AppData\\Local\\Packages\\PythonSoftwareFoundation.Python.3.11_qbz5n2kfra8p0\\LocalCache\\local-packages\\Python311\\site-packages\\pandas\\core\\generic.py:4830\u001b[0m, in \u001b[0;36mNDFrame._drop_axis\u001b[1;34m(self, labels, axis, level, errors, only_slice)\u001b[0m\n\u001b[0;32m   4828\u001b[0m         new_axis \u001b[38;5;241m=\u001b[39m axis\u001b[38;5;241m.\u001b[39mdrop(labels, level\u001b[38;5;241m=\u001b[39mlevel, errors\u001b[38;5;241m=\u001b[39merrors)\n\u001b[0;32m   4829\u001b[0m     \u001b[38;5;28;01melse\u001b[39;00m:\n\u001b[1;32m-> 4830\u001b[0m         new_axis \u001b[38;5;241m=\u001b[39m \u001b[43maxis\u001b[49m\u001b[38;5;241;43m.\u001b[39;49m\u001b[43mdrop\u001b[49m\u001b[43m(\u001b[49m\u001b[43mlabels\u001b[49m\u001b[43m,\u001b[49m\u001b[43m \u001b[49m\u001b[43merrors\u001b[49m\u001b[38;5;241;43m=\u001b[39;49m\u001b[43merrors\u001b[49m\u001b[43m)\u001b[49m\n\u001b[0;32m   4831\u001b[0m     indexer \u001b[38;5;241m=\u001b[39m axis\u001b[38;5;241m.\u001b[39mget_indexer(new_axis)\n\u001b[0;32m   4833\u001b[0m \u001b[38;5;66;03m# Case for non-unique axis\u001b[39;00m\n\u001b[0;32m   4834\u001b[0m \u001b[38;5;28;01melse\u001b[39;00m:\n",
      "File \u001b[1;32m~\\AppData\\Local\\Packages\\PythonSoftwareFoundation.Python.3.11_qbz5n2kfra8p0\\LocalCache\\local-packages\\Python311\\site-packages\\pandas\\core\\indexes\\base.py:7070\u001b[0m, in \u001b[0;36mIndex.drop\u001b[1;34m(self, labels, errors)\u001b[0m\n\u001b[0;32m   7068\u001b[0m \u001b[38;5;28;01mif\u001b[39;00m mask\u001b[38;5;241m.\u001b[39many():\n\u001b[0;32m   7069\u001b[0m     \u001b[38;5;28;01mif\u001b[39;00m errors \u001b[38;5;241m!=\u001b[39m \u001b[38;5;124m\"\u001b[39m\u001b[38;5;124mignore\u001b[39m\u001b[38;5;124m\"\u001b[39m:\n\u001b[1;32m-> 7070\u001b[0m         \u001b[38;5;28;01mraise\u001b[39;00m \u001b[38;5;167;01mKeyError\u001b[39;00m(\u001b[38;5;124mf\u001b[39m\u001b[38;5;124m\"\u001b[39m\u001b[38;5;132;01m{\u001b[39;00mlabels[mask]\u001b[38;5;241m.\u001b[39mtolist()\u001b[38;5;132;01m}\u001b[39;00m\u001b[38;5;124m not found in axis\u001b[39m\u001b[38;5;124m\"\u001b[39m)\n\u001b[0;32m   7071\u001b[0m     indexer \u001b[38;5;241m=\u001b[39m indexer[\u001b[38;5;241m~\u001b[39mmask]\n\u001b[0;32m   7072\u001b[0m \u001b[38;5;28;01mreturn\u001b[39;00m \u001b[38;5;28mself\u001b[39m\u001b[38;5;241m.\u001b[39mdelete(indexer)\n",
      "\u001b[1;31mKeyError\u001b[0m: \"['genres_list_id', 'score_rank'] not found in axis\""
     ]
    }
   ],
   "source": [
    "#Cleaning up again before encoding\n",
    "print(df.columns)\n",
    "df = df.drop(columns=['genres_list_id', 'score_rank'])\n",
    "df = df.dropna()\n",
    "print(df.isna().sum())"
   ]
  },
  {
   "cell_type": "code",
   "execution_count": 105,
   "id": "2c0c03bd",
   "metadata": {},
   "outputs": [
    {
     "name": "stdout",
     "output_type": "stream",
     "text": [
      "0                                   [Action, Free To Play]\n",
      "1                        [Action, Adventure, Free To Play]\n",
      "2        [Action, Adventure, Massively Multiplayer, Fre...\n",
      "3            [Action, Adventure, Indie, RPG, Early Access]\n",
      "4                                   [Action, Free To Play]\n",
      "                               ...                        \n",
      "82542                                   [Adventure, Indie]\n",
      "82543                                          [Adventure]\n",
      "82544                                 [Casual, Simulation]\n",
      "82545                                      [Casual, Indie]\n",
      "82546                                      [Casual, Indie]\n",
      "Name: genres_list, Length: 81924, dtype: object\n"
     ]
    }
   ],
   "source": [
    "print(df['genres_list'])"
   ]
  },
  {
   "cell_type": "code",
   "execution_count": 108,
   "id": "858fedc3",
   "metadata": {},
   "outputs": [
    {
     "name": "stdout",
     "output_type": "stream",
     "text": [
      "Index(['appid', 'type', 'name', 'developer', 'publisher', 'positive',\n",
      "       'negative', 'userscore', 'owners', 'average_forever', 'average_2weeks',\n",
      "       'median_forever', 'median_2weeks', 'price', 'initialprice', 'discount',\n",
      "       'ccu', 'genres_list', 'Accounting', 'Action', 'Adventure',\n",
      "       'Animation & Modeling', 'Audio Production', 'Casual',\n",
      "       'Design & Illustration', 'Early Access', 'Education', 'Free To Play',\n",
      "       'Game Development', 'Gore', 'Indie', 'Massively Multiplayer', 'Movie',\n",
      "       'Nudity', 'Photo Editing', 'RPG', 'Racing', 'Sexual Content', 'Short',\n",
      "       'Simulation', 'Software Training', 'Sports', 'Strategy', 'Utilities',\n",
      "       'Video Production', 'Violent', 'Web Publishing'],\n",
      "      dtype='object')\n"
     ]
    }
   ],
   "source": [
    "#encoding\n",
    "from sklearn.preprocessing import MultiLabelBinarizer\n",
    "mlb = MultiLabelBinarizer()\n",
    "genres_encoded = mlb.fit_transform(df['genres_list'])\n",
    "\n",
    "genres_df = pd.DataFrame(genres_encoded, columns=mlb.classes_, index=df.index)\n",
    "df_encoded = pd.concat([df, genres_df], axis=1)\n",
    "print(df_encoded.columns)"
   ]
  },
  {
   "cell_type": "code",
   "execution_count": null,
   "id": "452cf089",
   "metadata": {},
   "outputs": [
    {
     "name": "stdout",
     "output_type": "stream",
     "text": [
      "58158\n"
     ]
    }
   ],
   "source": [
    "#filtering to just Indie games to do some further EDA\n",
    "df_indie = df_encoded[(df_encoded['Indie'] == 1) & (df_encoded['type'] == 'game')]\n",
    "print(len(df_indie))"
   ]
  }
 ],
 "metadata": {
  "kernelspec": {
   "display_name": "Python 3",
   "language": "python",
   "name": "python3"
  },
  "language_info": {
   "codemirror_mode": {
    "name": "ipython",
    "version": 3
   },
   "file_extension": ".py",
   "mimetype": "text/x-python",
   "name": "python",
   "nbconvert_exporter": "python",
   "pygments_lexer": "ipython3",
   "version": "3.11.9"
  }
 },
 "nbformat": 4,
 "nbformat_minor": 5
}
